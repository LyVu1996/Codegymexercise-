{
 "cells": [
  {
   "cell_type": "code",
   "execution_count": 1,
   "id": "546a0ed2",
   "metadata": {},
   "outputs": [
    {
     "name": "stdout",
     "output_type": "stream",
     "text": [
      "Welcome to Codegym\n"
     ]
    }
   ],
   "source": [
    "#Codedym online \n",
    "print(\"Welcome to Codegym\")"
   ]
  },
  {
   "cell_type": "code",
   "execution_count": null,
   "id": "f1faf71a",
   "metadata": {},
   "outputs": [],
   "source": []
  }
 ],
 "metadata": {
  "kernelspec": {
   "display_name": "Python 3 (ipykernel)",
   "language": "python",
   "name": "python3"
  },
  "language_info": {
   "codemirror_mode": {
    "name": "ipython",
    "version": 3
   },
   "file_extension": ".py",
   "mimetype": "text/x-python",
   "name": "python",
   "nbconvert_exporter": "python",
   "pygments_lexer": "ipython3",
   "version": "3.10.0"
  }
 },
 "nbformat": 4,
 "nbformat_minor": 5
}
